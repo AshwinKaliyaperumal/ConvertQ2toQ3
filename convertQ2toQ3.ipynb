{
 "cells": [
  {
   "cell_type": "code",
   "execution_count": 15,
   "metadata": {},
   "outputs": [],
   "source": [
    "import qiskit.qasm2\n",
    "from qiskit import qasm3, QuantumCircuit, QuantumRegister, ClassicalRegister\n",
    "import os\n"
   ]
  },
  {
   "cell_type": "code",
   "execution_count": 24,
   "metadata": {},
   "outputs": [
    {
     "name": "stdout",
     "output_type": "stream",
     "text": [
      "--- /home/quan1999nt/Desktop/cwq/convertQ2toQ3/dataset/dataset1/ae_indep_qiskit_2.qasm ---\n",
      "// Benchmark was created by MQT Bench on 2023-06-29\n",
      "// For more information about MQT Bench, please visit https://www.cda.cit.tum.de/mqtbench/\n",
      "// MQT Bench version: v1.0.0\n",
      "// Qiskit version: {'qiskit-terra': '0.24.1', 'qiskit-aer': '0.12.0', 'qiskit-ignis': None, 'qiskit-ibmq-provider': '0.20.2', 'qiskit': '0.43.1', 'qiskit-nature': '0.6.2', 'qiskit-finance': '0.3.4', 'qiskit-optimization': '0.5.0', 'qiskit-machine-learning': '0.6.1'}\n",
      "\n",
      "OPENQASM 2.0;\n",
      "include \"qelib1.inc\";\n",
      "gate u(a, b, c) d { U(a,b,c) d; }\n",
      "qreg eval[1];\n",
      "qreg q[1];\n",
      "creg meas[2];\n",
      "u2(0,-pi) eval[0];\n",
      "u3(0.9272952180016122,0,0) q[0];\n",
      "cx eval[0],q[0];\n",
      "u(-0.9272952180016122,0,0) q[0];\n",
      "cx eval[0],q[0];\n",
      "h eval[0];\n",
      "u(0.9272952180016122,0,0) q[0];\n",
      "barrier eval[0],q[0];\n",
      "measure eval[0] -> meas[0];\n",
      "measure q[0] -> meas[1];\n",
      "\n",
      "\n",
      "--- /home/quan1999nt/Desktop/cwq/convertQ2toQ3/dataset/dataset2/test.qasm ---\n",
      "OPENQASM 2.0;\n",
      "include \"qelib1.inc\";\n",
      "gate u(a, b, c) d { U(a,b,c) d; }\n",
      "\n",
      "qreg q[2];\n",
      "creg c[2];\n",
      " \n",
      "h q[0];\n",
      "cx q[0], q[1];\n",
      " \n",
      "measure q -> c;\n",
      "\n"
     ]
    }
   ],
   "source": [
    "import os\n",
    "\n",
    "def modify_qasm_file(file_path):\n",
    "    \"\"\"\n",
    "    Modify a QASM file to include a new gate definition after the include statement.\n",
    "    \n",
    "    Parameters:\n",
    "    file_path (str): The path to the QASM file.\n",
    "    \n",
    "    Returns:\n",
    "    str: The modified content of the QASM file.\n",
    "    \"\"\"\n",
    "    new_gate = 'gate u(a, b, c) d { U(a,b,c) d; }\\n'\n",
    "    include_line = 'include \"qelib1.inc\";\\n'\n",
    "    \n",
    "    with open(file_path, 'r') as file:\n",
    "        lines = file.readlines()\n",
    "    \n",
    "    # Find the index of the include line\n",
    "    try:\n",
    "        index = lines.index(include_line) + 1\n",
    "    except ValueError:\n",
    "        raise ValueError(f'Include line not found in {file_path}')\n",
    "    \n",
    "    if new_gate in lines:\n",
    "        modified_content = ''.join(lines)\n",
    "        return content\n",
    "\n",
    "    # Insert the new gate definition after the include line\n",
    "    lines.insert(index, new_gate)\n",
    "    \n",
    "    # Join the lines to create the modified content\n",
    "    modified_content = ''.join(lines)\n",
    "    \n",
    "    return modified_content\n",
    "\n",
    "def find_and_modify_qasm_files(directory):\n",
    "    \"\"\"\n",
    "    Find all .qasm files in a directory and its subdirectories, and modify them to include a new gate definition.\n",
    "    \n",
    "    Parameters:\n",
    "    directory (str): The root directory to search for .qasm files.\n",
    "    \n",
    "    Returns:\n",
    "    dict: A dictionary with file paths as keys and modified contents as values.\n",
    "    \"\"\"\n",
    "    qasm_files = find_qasm_files(directory)\n",
    "    modified_files = {}\n",
    "    \n",
    "    for file_path in qasm_files:\n",
    "        try:\n",
    "            modified_content = modify_qasm_file(file_path)\n",
    "            modified_files[file_path] = modified_content\n",
    "        except ValueError as e:\n",
    "            print(e)\n",
    "    \n",
    "    return modified_files\n",
    "\n",
    "# Example usage\n",
    "directory_path = 'your_directory_path_here'\n",
    "modified_qasm_files = find_and_modify_qasm_files(directory_path)\n",
    "\n",
    "# Print modified contents\n",
    "for file_path, content in modified_qasm_files.items():\n",
    "    print(f'--- {file_path} ---\\n{content}\\n')\n"
   ]
  },
  {
   "cell_type": "code",
   "execution_count": 18,
   "metadata": {},
   "outputs": [
    {
     "name": "stdout",
     "output_type": "stream",
     "text": [
      "['/home/quan1999nt/Desktop/cwq/convertQ2toQ3/dataset/dataset1/ae_indep_qiskit_2.qasm', '/home/quan1999nt/Desktop/cwq/convertQ2toQ3/dataset/dataset2/test.qasm']\n"
     ]
    }
   ],
   "source": [
    "directory_path = '/home/quan1999nt/Desktop/cwq/convertQ2toQ3/dataset'\n",
    "qasm_files = find_qasm_files(directory_path)\n",
    "print(qasm_files)"
   ]
  },
  {
   "cell_type": "code",
   "execution_count": null,
   "metadata": {},
   "outputs": [],
   "source": [
    "filenames = \"test.qasm\"\n",
    "\n",
    "circuits = qiskit.qasm2.load(filenames)\n",
    "circuits.draw()"
   ]
  },
  {
   "cell_type": "code",
   "execution_count": 8,
   "metadata": {},
   "outputs": [
    {
     "name": "stdout",
     "output_type": "stream",
     "text": [
      "OPENQASM 3.0;\n",
      "include \"stdgates.inc\";\n",
      "gate u_130407378717728(_gate_p_0, _gate_p_1, _gate_p_2) _gate_q_0 {\n",
      "  U(-0.9272952180016122, 0, 0) _gate_q_0;\n",
      "}\n",
      "gate u_130407378720368(_gate_p_0, _gate_p_1, _gate_p_2) _gate_q_0 {\n",
      "  U(0.9272952180016122, 0, 0) _gate_q_0;\n",
      "}\n",
      "bit[2] meas;\n",
      "qubit[1] eval;\n",
      "qubit[1] q;\n",
      "u2(0, -pi) eval[0];\n",
      "u3(0.9272952180016122, 0, 0) q[0];\n",
      "cx eval[0], q[0];\n",
      "u_130407378717728(-0.9272952180016122, 0, 0) q[0];\n",
      "cx eval[0], q[0];\n",
      "h eval[0];\n",
      "u_130407378720368(0.9272952180016122, 0, 0) q[0];\n",
      "barrier eval[0], q[0];\n",
      "meas[0] = measure eval[0];\n",
      "meas[1] = measure q[0];\n",
      "\n"
     ]
    }
   ],
   "source": [
    "qasm_string = qasm3.dumps(circuits, experimental=qasm3.ExperimentalFeatures.SWITCH_CASE_V1)\n",
    "print(qasm_string)"
   ]
  }
 ],
 "metadata": {
  "kernelspec": {
   "display_name": "cwq",
   "language": "python",
   "name": "python3"
  },
  "language_info": {
   "codemirror_mode": {
    "name": "ipython",
    "version": 3
   },
   "file_extension": ".py",
   "mimetype": "text/x-python",
   "name": "python",
   "nbconvert_exporter": "python",
   "pygments_lexer": "ipython3",
   "version": "3.12.2"
  }
 },
 "nbformat": 4,
 "nbformat_minor": 2
}
